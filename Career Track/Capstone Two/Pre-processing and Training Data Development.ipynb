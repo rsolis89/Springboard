{
 "cells": [
  {
   "cell_type": "markdown",
   "id": "01392414",
   "metadata": {},
   "source": [
    "# Part 1:"
   ]
  },
  {
   "cell_type": "markdown",
   "id": "d4f88b01",
   "metadata": {},
   "source": [
    "## Importing Libraries and Dataset"
   ]
  },
  {
   "cell_type": "code",
   "execution_count": 1,
   "id": "bb23976f",
   "metadata": {},
   "outputs": [],
   "source": [
    "import pandas as pd\n",
    "import numpy as np\n",
    "import os\n",
    "import pickle\n",
    "import matplotlib.pyplot as plt\n",
    "import seaborn as sns\n",
    "import datetime\n",
    "from sklearn import __version__ as sklearn_version\n",
    "from sklearn.decomposition import PCA\n",
    "from sklearn.preprocessing import scale, LabelEncoder\n",
    "from sklearn.model_selection import train_test_split, cross_validate, GridSearchCV, learning_curve\n",
    "from sklearn.preprocessing import StandardScaler, MinMaxScaler\n",
    "from sklearn.dummy import DummyRegressor\n",
    "from sklearn.linear_model import LinearRegression, LogisticRegression\n",
    "from sklearn.ensemble import RandomForestRegressor\n",
    "from sklearn.metrics import accuracy_score, mean_squared_error, mean_absolute_error, confusion_matrix, f1_score, precision_score, recall_score, balanced_accuracy_score\n",
    "from sklearn.pipeline import make_pipeline\n",
    "from sklearn.impute import SimpleImputer\n",
    "from sklearn.feature_selection import SelectKBest, f_regression"
   ]
  },
  {
   "cell_type": "code",
   "execution_count": 2,
   "id": "e308baa3",
   "metadata": {},
   "outputs": [
    {
     "data": {
      "text/html": [
       "<div>\n",
       "<style scoped>\n",
       "    .dataframe tbody tr th:only-of-type {\n",
       "        vertical-align: middle;\n",
       "    }\n",
       "\n",
       "    .dataframe tbody tr th {\n",
       "        vertical-align: top;\n",
       "    }\n",
       "\n",
       "    .dataframe thead th {\n",
       "        text-align: right;\n",
       "    }\n",
       "</style>\n",
       "<table border=\"1\" class=\"dataframe\">\n",
       "  <thead>\n",
       "    <tr style=\"text-align: right;\">\n",
       "      <th></th>\n",
       "      <th>male</th>\n",
       "      <th>age</th>\n",
       "      <th>debt</th>\n",
       "      <th>married</th>\n",
       "      <th>bank_customer</th>\n",
       "      <th>education_level</th>\n",
       "      <th>ethnicity</th>\n",
       "      <th>years_employed</th>\n",
       "      <th>prior_default</th>\n",
       "      <th>employed</th>\n",
       "      <th>credit_score</th>\n",
       "      <th>drivers_license</th>\n",
       "      <th>citizen</th>\n",
       "      <th>zip_code</th>\n",
       "      <th>income</th>\n",
       "      <th>approval_status</th>\n",
       "    </tr>\n",
       "  </thead>\n",
       "  <tbody>\n",
       "    <tr>\n",
       "      <th>0</th>\n",
       "      <td>b</td>\n",
       "      <td>30.83</td>\n",
       "      <td>0.000</td>\n",
       "      <td>u</td>\n",
       "      <td>g</td>\n",
       "      <td>w</td>\n",
       "      <td>v</td>\n",
       "      <td>1.25</td>\n",
       "      <td>t</td>\n",
       "      <td>t</td>\n",
       "      <td>1</td>\n",
       "      <td>f</td>\n",
       "      <td>g</td>\n",
       "      <td>00202</td>\n",
       "      <td>0</td>\n",
       "      <td>1</td>\n",
       "    </tr>\n",
       "    <tr>\n",
       "      <th>1</th>\n",
       "      <td>a</td>\n",
       "      <td>58.67</td>\n",
       "      <td>4.460</td>\n",
       "      <td>u</td>\n",
       "      <td>g</td>\n",
       "      <td>q</td>\n",
       "      <td>h</td>\n",
       "      <td>3.04</td>\n",
       "      <td>t</td>\n",
       "      <td>t</td>\n",
       "      <td>6</td>\n",
       "      <td>f</td>\n",
       "      <td>g</td>\n",
       "      <td>00043</td>\n",
       "      <td>560</td>\n",
       "      <td>1</td>\n",
       "    </tr>\n",
       "    <tr>\n",
       "      <th>2</th>\n",
       "      <td>a</td>\n",
       "      <td>24.50</td>\n",
       "      <td>0.500</td>\n",
       "      <td>u</td>\n",
       "      <td>g</td>\n",
       "      <td>q</td>\n",
       "      <td>h</td>\n",
       "      <td>1.50</td>\n",
       "      <td>t</td>\n",
       "      <td>f</td>\n",
       "      <td>0</td>\n",
       "      <td>f</td>\n",
       "      <td>g</td>\n",
       "      <td>00280</td>\n",
       "      <td>824</td>\n",
       "      <td>1</td>\n",
       "    </tr>\n",
       "    <tr>\n",
       "      <th>3</th>\n",
       "      <td>b</td>\n",
       "      <td>27.83</td>\n",
       "      <td>1.540</td>\n",
       "      <td>u</td>\n",
       "      <td>g</td>\n",
       "      <td>w</td>\n",
       "      <td>v</td>\n",
       "      <td>3.75</td>\n",
       "      <td>t</td>\n",
       "      <td>t</td>\n",
       "      <td>5</td>\n",
       "      <td>t</td>\n",
       "      <td>g</td>\n",
       "      <td>00100</td>\n",
       "      <td>3</td>\n",
       "      <td>1</td>\n",
       "    </tr>\n",
       "    <tr>\n",
       "      <th>4</th>\n",
       "      <td>b</td>\n",
       "      <td>20.17</td>\n",
       "      <td>5.625</td>\n",
       "      <td>u</td>\n",
       "      <td>g</td>\n",
       "      <td>w</td>\n",
       "      <td>v</td>\n",
       "      <td>1.71</td>\n",
       "      <td>t</td>\n",
       "      <td>f</td>\n",
       "      <td>0</td>\n",
       "      <td>f</td>\n",
       "      <td>s</td>\n",
       "      <td>00120</td>\n",
       "      <td>0</td>\n",
       "      <td>1</td>\n",
       "    </tr>\n",
       "  </tbody>\n",
       "</table>\n",
       "</div>"
      ],
      "text/plain": [
       "  male    age   debt married bank_customer education_level ethnicity  \\\n",
       "0    b  30.83  0.000       u             g               w         v   \n",
       "1    a  58.67  4.460       u             g               q         h   \n",
       "2    a  24.50  0.500       u             g               q         h   \n",
       "3    b  27.83  1.540       u             g               w         v   \n",
       "4    b  20.17  5.625       u             g               w         v   \n",
       "\n",
       "   years_employed prior_default employed  credit_score drivers_license  \\\n",
       "0            1.25             t        t             1               f   \n",
       "1            3.04             t        t             6               f   \n",
       "2            1.50             t        f             0               f   \n",
       "3            3.75             t        t             5               t   \n",
       "4            1.71             t        f             0               f   \n",
       "\n",
       "  citizen zip_code  income  approval_status  \n",
       "0       g    00202       0                1  \n",
       "1       g    00043     560                1  \n",
       "2       g    00280     824                1  \n",
       "3       g    00100       3                1  \n",
       "4       s    00120       0                1  "
      ]
     },
     "execution_count": 2,
     "metadata": {},
     "output_type": "execute_result"
    }
   ],
   "source": [
    "df = pd.read_csv('data_clean.csv')\n",
    "df.head()"
   ]
  },
  {
   "cell_type": "code",
   "execution_count": 3,
   "id": "0798103e",
   "metadata": {},
   "outputs": [
    {
     "name": "stdout",
     "output_type": "stream",
     "text": [
      "<class 'pandas.core.frame.DataFrame'>\n",
      "RangeIndex: 690 entries, 0 to 689\n",
      "Data columns (total 16 columns):\n",
      " #   Column           Non-Null Count  Dtype  \n",
      "---  ------           --------------  -----  \n",
      " 0   male             690 non-null    object \n",
      " 1   age              690 non-null    float64\n",
      " 2   debt             690 non-null    float64\n",
      " 3   married          690 non-null    object \n",
      " 4   bank_customer    690 non-null    object \n",
      " 5   education_level  690 non-null    object \n",
      " 6   ethnicity        690 non-null    object \n",
      " 7   years_employed   690 non-null    float64\n",
      " 8   prior_default    690 non-null    object \n",
      " 9   employed         690 non-null    object \n",
      " 10  credit_score     690 non-null    int64  \n",
      " 11  drivers_license  690 non-null    object \n",
      " 12  citizen          690 non-null    object \n",
      " 13  zip_code         690 non-null    object \n",
      " 14  income           690 non-null    int64  \n",
      " 15  approval_status  690 non-null    int64  \n",
      "dtypes: float64(3), int64(3), object(10)\n",
      "memory usage: 86.4+ KB\n"
     ]
    }
   ],
   "source": [
    "df.info()"
   ]
  },
  {
   "cell_type": "code",
   "execution_count": 4,
   "id": "cdf8aa11",
   "metadata": {},
   "outputs": [
    {
     "data": {
      "text/html": [
       "<div>\n",
       "<style scoped>\n",
       "    .dataframe tbody tr th:only-of-type {\n",
       "        vertical-align: middle;\n",
       "    }\n",
       "\n",
       "    .dataframe tbody tr th {\n",
       "        vertical-align: top;\n",
       "    }\n",
       "\n",
       "    .dataframe thead th {\n",
       "        text-align: right;\n",
       "    }\n",
       "</style>\n",
       "<table border=\"1\" class=\"dataframe\">\n",
       "  <thead>\n",
       "    <tr style=\"text-align: right;\">\n",
       "      <th></th>\n",
       "      <th>count</th>\n",
       "      <th>%</th>\n",
       "    </tr>\n",
       "  </thead>\n",
       "  <tbody>\n",
       "    <tr>\n",
       "      <th>male</th>\n",
       "      <td>False</td>\n",
       "      <td>0.0</td>\n",
       "    </tr>\n",
       "    <tr>\n",
       "      <th>age</th>\n",
       "      <td>False</td>\n",
       "      <td>0.0</td>\n",
       "    </tr>\n",
       "    <tr>\n",
       "      <th>debt</th>\n",
       "      <td>False</td>\n",
       "      <td>0.0</td>\n",
       "    </tr>\n",
       "    <tr>\n",
       "      <th>married</th>\n",
       "      <td>False</td>\n",
       "      <td>0.0</td>\n",
       "    </tr>\n",
       "    <tr>\n",
       "      <th>bank_customer</th>\n",
       "      <td>False</td>\n",
       "      <td>0.0</td>\n",
       "    </tr>\n",
       "    <tr>\n",
       "      <th>education_level</th>\n",
       "      <td>False</td>\n",
       "      <td>0.0</td>\n",
       "    </tr>\n",
       "    <tr>\n",
       "      <th>ethnicity</th>\n",
       "      <td>False</td>\n",
       "      <td>0.0</td>\n",
       "    </tr>\n",
       "    <tr>\n",
       "      <th>years_employed</th>\n",
       "      <td>False</td>\n",
       "      <td>0.0</td>\n",
       "    </tr>\n",
       "    <tr>\n",
       "      <th>prior_default</th>\n",
       "      <td>False</td>\n",
       "      <td>0.0</td>\n",
       "    </tr>\n",
       "    <tr>\n",
       "      <th>employed</th>\n",
       "      <td>False</td>\n",
       "      <td>0.0</td>\n",
       "    </tr>\n",
       "    <tr>\n",
       "      <th>credit_score</th>\n",
       "      <td>False</td>\n",
       "      <td>0.0</td>\n",
       "    </tr>\n",
       "    <tr>\n",
       "      <th>drivers_license</th>\n",
       "      <td>False</td>\n",
       "      <td>0.0</td>\n",
       "    </tr>\n",
       "    <tr>\n",
       "      <th>citizen</th>\n",
       "      <td>False</td>\n",
       "      <td>0.0</td>\n",
       "    </tr>\n",
       "    <tr>\n",
       "      <th>zip_code</th>\n",
       "      <td>False</td>\n",
       "      <td>0.0</td>\n",
       "    </tr>\n",
       "    <tr>\n",
       "      <th>income</th>\n",
       "      <td>False</td>\n",
       "      <td>0.0</td>\n",
       "    </tr>\n",
       "    <tr>\n",
       "      <th>approval_status</th>\n",
       "      <td>False</td>\n",
       "      <td>0.0</td>\n",
       "    </tr>\n",
       "  </tbody>\n",
       "</table>\n",
       "</div>"
      ],
      "text/plain": [
       "                 count    %\n",
       "male             False  0.0\n",
       "age              False  0.0\n",
       "debt             False  0.0\n",
       "married          False  0.0\n",
       "bank_customer    False  0.0\n",
       "education_level  False  0.0\n",
       "ethnicity        False  0.0\n",
       "years_employed   False  0.0\n",
       "prior_default    False  0.0\n",
       "employed         False  0.0\n",
       "credit_score     False  0.0\n",
       "drivers_license  False  0.0\n",
       "citizen          False  0.0\n",
       "zip_code         False  0.0\n",
       "income           False  0.0\n",
       "approval_status  False  0.0"
      ]
     },
     "execution_count": 4,
     "metadata": {},
     "output_type": "execute_result"
    }
   ],
   "source": [
    "missing = pd.concat([df.sum().isnull(), 100 * df.isnull().mean()], axis=1)\n",
    "missing.columns = ['count', '%']\n",
    "missing.sort_values(by = '%')"
   ]
  },
  {
   "cell_type": "code",
   "execution_count": 5,
   "id": "6e455ecd",
   "metadata": {},
   "outputs": [
    {
     "name": "stdout",
     "output_type": "stream",
     "text": [
      "male: ['b' 'a'] \n",
      "\n",
      "age: [30.83       58.67       24.5        27.83       20.17       32.08\n",
      " 33.17       22.92       54.42       42.5        22.08       29.92\n",
      " 38.25       48.08       45.83       36.67       28.25       23.25\n",
      " 21.83       19.17       25.         47.75       27.42       41.17\n",
      " 15.83       47.         56.58       57.42       42.08       29.25\n",
      " 42.         49.5        36.75       22.58       27.25       23.\n",
      " 27.75       54.58       34.17       28.92       29.67       39.58\n",
      " 56.42       54.33       41.         31.92       41.5        23.92\n",
      " 25.75       26.         37.42       34.92       34.25       23.33\n",
      " 23.17       44.33       35.17       43.25       56.75       31.67\n",
      " 23.42       20.42       26.67       36.         25.5        19.42\n",
      " 32.33       34.83       38.58       44.25       44.83       20.67\n",
      " 34.08       21.67       21.5        49.58       27.67       39.83\n",
      " 31.56817109 37.17       25.67       34.         49.         62.5\n",
      " 31.42       52.33       28.75       28.58       22.5        28.5\n",
      " 37.5        35.25       18.67       54.83       40.92       19.75\n",
      " 29.17       24.58       33.75       25.42       37.75       52.5\n",
      " 57.83       20.75       39.92       24.75       44.17       23.5\n",
      " 47.67       22.75       34.42       28.42       67.75       47.42\n",
      " 36.25       32.67       48.58       33.58       18.83       26.92\n",
      " 31.25       56.5        43.         22.33       32.83       40.33\n",
      " 30.5        52.83       46.67       58.33       37.33       23.08\n",
      " 32.75       68.67       28.         44.         25.08       32.\n",
      " 60.58       40.83       19.33       41.33       56.         49.83\n",
      " 22.67       27.         26.08       18.42       21.25       57.08\n",
      " 22.42       48.75       40.         40.58       28.67       33.08\n",
      " 21.33       41.75       34.5        48.17       27.58       24.08\n",
      " 24.83       36.33       35.42       71.58       39.5        39.33\n",
      " 24.33       60.08       55.92       53.92       18.92       50.08\n",
      " 65.42       17.58       18.08       19.67       25.17       33.5\n",
      " 58.42       26.17       42.83       38.17       20.5        48.25\n",
      " 28.33       18.75       18.5        45.         40.25       41.42\n",
      " 17.83       18.17       20.         52.17       50.75       17.08\n",
      " 18.33       59.67       18.         37.58       30.67       18.58\n",
      " 16.25       21.17       17.67       16.5        29.5        21.75\n",
      " 18.25       35.75       16.08       69.17       32.92       16.33\n",
      " 22.17       57.58       15.92       31.75       19.         17.5\n",
      " 33.67       30.17       33.25       25.25       34.75       47.33\n",
      " 39.08       42.75       38.92       62.75       32.25       26.75\n",
      " 63.33       30.75       16.         19.5        32.42       30.25\n",
      " 26.83       16.92       24.42       39.42       23.58       21.42\n",
      " 33.         26.33       26.25       28.17       20.83       43.17\n",
      " 56.83       15.17       29.83       31.         51.92       69.5\n",
      " 19.58       22.25       38.42       26.58       35.         29.42\n",
      " 49.17       51.83       58.58       53.33       27.17       25.92\n",
      " 30.58       17.25       27.33       36.5        29.75       52.42\n",
      " 36.17       34.58       21.92       36.58       31.08       30.42\n",
      " 21.08       17.42       39.17       26.5        17.33       23.75\n",
      " 34.67       74.83       45.33       47.25       24.17       39.25\n",
      " 39.         64.08       31.33       21.         13.75       46.\n",
      " 20.25       60.92       30.         22.83       45.17       41.58\n",
      " 55.75       25.33       31.83       33.92       24.92       80.25\n",
      " 30.08       48.33       76.75       51.33       41.92       29.58\n",
      " 32.17       51.42       42.17       43.08       59.5        65.17\n",
      " 20.33       48.5        28.08       73.42       51.58       38.67\n",
      " 46.08       20.08       42.25       16.17       47.83       22.\n",
      " 38.33       25.58       21.58       36.08       38.75       35.58\n",
      " 31.58       15.75       17.92       30.33       47.17       25.83\n",
      " 50.25       36.42      ] \n",
      "\n",
      "debt: [ 0.     4.46   0.5    1.54   5.625  4.     1.04  11.585  4.915  0.83\n",
      "  1.835  6.     6.04  10.5    4.415  0.875  5.875  0.25   8.585 11.25\n",
      "  1.     8.    14.5    6.5    0.585 13.    18.5    8.5   14.79   9.79\n",
      "  7.585  5.125 10.75   1.5    1.585 11.75   9.415  9.17  15.     1.415\n",
      " 13.915 28.     6.75   2.04   0.665  2.5    3.    11.625  4.5   12.25\n",
      " 16.165  0.79   0.835  4.25   0.375 25.125  7.5    5.     7.     5.29\n",
      "  1.165  9.75  19.     3.5    0.625  2.21  12.75  15.5    1.375  3.54\n",
      " 11.     1.75  16.5   12.     2.25   0.75  12.5    1.25   1.125  7.04\n",
      " 10.335  6.21   6.665  9.     5.5    0.54   2.75   9.5   13.5    3.75\n",
      " 16.     0.29   1.665  7.54   0.46  10.    11.5    3.04   2.     0.08\n",
      "  1.71   3.25   2.54  13.585  8.665  9.25   8.17   2.335 19.5    5.665\n",
      "  4.625  0.205  0.96   4.04   5.04   3.165  7.625 10.04  10.25   2.125\n",
      "  9.335  6.625  2.71   9.625 12.54   9.54   8.46  13.75  21.    10.125\n",
      " 25.085  0.21  21.5   11.125 11.045  1.335  0.085  1.21   0.165  5.71\n",
      "  5.415 12.625  0.58   0.415  2.415  0.335  3.125 12.125  2.875 13.665\n",
      " 26.335 10.29   1.29  22.     0.125  1.085  4.085  4.71   6.165  4.585\n",
      " 11.46  14.585  0.17   1.625  2.085  5.085  8.125  2.835  1.79   0.705\n",
      "  2.165  2.29  18.125  3.085 11.665  4.125  1.08  13.335 11.835  4.79\n",
      "  9.96   7.08  25.21   0.67   3.79  22.29   3.335  0.42   1.46   0.04\n",
      " 12.33  12.335  0.915 14.    17.75  20.     5.25   4.165 10.915  4.75\n",
      " 10.415  7.835  0.71   2.46   9.585  3.625  2.665  5.835 12.835 10.665\n",
      "  7.25  10.21   3.29  10.085  3.375] \n",
      "\n",
      "married: ['u' 'y' 'b' 'l'] \n",
      "\n",
      "bank_customer: ['g' 'p' 'b' 'gg'] \n",
      "\n",
      "education_level: ['w' 'q' 'm' 'r' 'cc' 'k' 'c' 'd' 'x' 'i' 'e' 'aa' 'ff' 'j' 'b'] \n",
      "\n",
      "ethnicity: ['v' 'h' 'bb' 'ff' 'j' 'z' 'b' 'o' 'dd' 'n'] \n",
      "\n",
      "years_employed: [ 1.25   3.04   1.5    3.75   1.71   2.5    6.5    0.04   3.96   3.165\n",
      "  2.165  4.335  1.     5.     0.25   0.96   3.17   0.665  0.75   0.835\n",
      "  7.875  3.085  0.5    5.165 15.     7.     5.04   7.96   7.585  0.415\n",
      "  2.     1.835 14.415  4.5    5.335  8.625 28.5    2.625  0.125  6.04\n",
      "  3.5    0.165  0.875  1.75   0.     7.415  0.085  5.75   6.     3.\n",
      "  1.585  4.29   1.54   1.46   1.625 12.5   13.5   10.75   0.375  0.585\n",
      "  0.455  4.     8.5    9.46   2.25  10.     0.795  1.375  1.29  11.5\n",
      "  6.29  14.     0.335  1.21   7.375  7.5    3.25  13.     5.5    4.25\n",
      "  0.625  5.085  2.75   2.375  8.     1.085  2.54   4.165  1.665 11.\n",
      "  9.     1.335  1.415  1.96   2.585  5.125 15.5    0.71   5.665 18.\n",
      "  5.25   8.665  2.29  20.     2.46  13.875  2.085  4.58   2.71   2.04\n",
      "  0.29   4.75   0.46   0.21   0.54   3.335  2.335  1.165  2.415  2.79\n",
      "  4.625  1.04   6.75   1.875 16.    12.75   5.375  2.125 17.5    3.125\n",
      "  0.79   8.29 ] \n",
      "\n",
      "prior_default: ['t' 'f'] \n",
      "\n",
      "employed: ['t' 'f'] \n",
      "\n",
      "credit_score: [ 1  6  0  5  7 10  3 17  2  9  8 15 11 12 40 23  4 20 67 14 16 13 19] \n",
      "\n",
      "drivers_license: ['f' 't'] \n",
      "\n",
      "citizen: ['g' 's' 'p'] \n",
      "\n",
      "zip_code: ['00202' '00043' '00280' '00100' '00120' '00360' '00164' '00080' '00180'\n",
      " '00052' '00128' '00260' '00000' '00320' '00396' '00096' '00200' '00300'\n",
      " '00145' '00500' '00168' '00434' '00583' '00030' '00240' '00070' '00455'\n",
      " '00311' '00216' '00491' '00400' '00239' '00160' '00711' '00250' '00520'\n",
      " '00515' '00420' 'b' '00980' '00443' '00140' '00094' '00368' '00288'\n",
      " '00928' '00188' '00112' '00171' '00268' '00167' '00075' '00152' '00176'\n",
      " '00329' '00212' '00410' '00274' '00375' '00408' '00350' '00204' '00040'\n",
      " '00181' '00399' '00440' '00093' '00060' '00395' '00393' '00021' '00029'\n",
      " '00102' '00431' '00370' '00024' '00020' '00129' '00510' '00195' '00144'\n",
      " '00380' '00049' '00050' '00381' '00150' '00117' '00056' '00211' '00230'\n",
      " '00156' '00022' '00228' '00519' '00253' '00487' '00220' '00088' '00073'\n",
      " '00121' '00470' '00136' '00132' '00292' '00154' '00272' '00340' '00108'\n",
      " '00720' '00450' '00232' '00170' '01160' '00411' '00460' '00348' '00480'\n",
      " '00640' '00372' '00276' '00221' '00352' '00141' '00178' '00600' '00550'\n",
      " '02000' '00225' '00210' '00110' '00356' '00045' '00062' '00092' '00174'\n",
      " '00017' '00086' '00454' '00254' '00028' '00263' '00333' '00312' '00290'\n",
      " '00371' '00099' '00252' '00760' '00560' '00130' '00523' '00680' '00163'\n",
      " '00208' '00383' '00330' '00422' '00840' '00432' '00032' '00186' '00303'\n",
      " '00349' '00224' '00369' '00076' '00231' '00309' '00416' '00465' '00256'] \n",
      "\n",
      "income: [     0    560    824      3  31285   1349    314   1442    200   2690\n",
      "    245   1208   1260     11  10000   5000   4000     35    713    551\n",
      "    500    300    221   2283    100     15    284   1236   5800    730\n",
      "    400  50000    456  15108   2954      2     20     27    225      1\n",
      "     38      5    130    147    210  11202   1332     50    258    567\n",
      "   1000   2510    809    610    150  51100    367    600    247    375\n",
      "    278    827   2072    582   2300   3065   2200      6   1602   2184\n",
      "   3376   2000   7544  10561    837  11177    639   2028   1065    540\n",
      "    158  15000   3000   3257   1655   1430      7    790    396    678\n",
      "   1187   6590    168   1270   1210    742   8851   7059   1704    857\n",
      "   6700   2503   9800    196     14  26726  18027     99    444   1200\n",
      "   2010     13    120     32    722     40    484    204     98   5552\n",
      "    105   2803    126      4     21    173     10     25     42 100000\n",
      "    113      8     44   2732    179     16   1062    251    228     67\n",
      "     12    122   4208   1300    112   1110   1004    286   4500   1212\n",
      "    195     87     17    184    140     18    146     22     55     70\n",
      "     60   1058    769   5200     19    316    350   3552    687   1950\n",
      "     53     41     33     80    351   2100    475    892   4607   2206\n",
      "   5860     28   1391   2279    591    960    690    234    800    990\n",
      "   2197     90    340    347    327   4071    109   1249    134   1344\n",
      "    321    948   2079   2384    458   5298    162   1583     58     59\n",
      "   1400   1465   8000   4700   1097   3290  13212   5777   5124     23\n",
      "   4159    918    768    283    108      9     68    587    141    501\n",
      "    160    390    154    117    246    237    364    537    394    750] \n",
      "\n",
      "approval_status: [1 0] \n",
      "\n"
     ]
    }
   ],
   "source": [
    "for col in df:\n",
    "    print(f'{col}: {df[col].unique()}', '\\n')"
   ]
  },
  {
   "cell_type": "markdown",
   "id": "fed2528c",
   "metadata": {},
   "source": [
    "The missing values were successfully handled in a prior notebook."
   ]
  },
  {
   "cell_type": "markdown",
   "id": "d4acc936",
   "metadata": {},
   "source": [
    "There is still a little but essential pre-processing to perform before we start building our machine learning model. The tasks include\n",
    "\n",
    "1. Convert the non-numeric data into numeric. \n",
    "2. Split the data into test and training sets.\n",
    "3. Scale the features to a uniform range."
   ]
  },
  {
   "cell_type": "markdown",
   "id": "a2d7003c",
   "metadata": {},
   "source": [
    "We being by converting all of the non-numeric data into numeric. Many machine learning models require the data to be in stricly numeric format. The will also result in faster computations. We will use _label encoding_ to accomplish this task."
   ]
  },
  {
   "cell_type": "markdown",
   "id": "cd481298",
   "metadata": {},
   "source": [
    "## Convert the non-numeric data into numeric."
   ]
  },
  {
   "cell_type": "code",
   "execution_count": 6,
   "id": "8bedaf73",
   "metadata": {},
   "outputs": [],
   "source": [
    "# Instantiate LabelEncoder\n",
    "le = LabelEncoder()\n",
    "\n",
    "for col in df:\n",
    "    if df[col].dtype == 'object':\n",
    "        df[col] = le.fit_transform(df[col])"
   ]
  },
  {
   "cell_type": "code",
   "execution_count": 7,
   "id": "8ddfd655",
   "metadata": {},
   "outputs": [
    {
     "name": "stdout",
     "output_type": "stream",
     "text": [
      "<class 'pandas.core.frame.DataFrame'>\n",
      "RangeIndex: 690 entries, 0 to 689\n",
      "Data columns (total 16 columns):\n",
      " #   Column           Non-Null Count  Dtype  \n",
      "---  ------           --------------  -----  \n",
      " 0   male             690 non-null    int64  \n",
      " 1   age              690 non-null    float64\n",
      " 2   debt             690 non-null    float64\n",
      " 3   married          690 non-null    int64  \n",
      " 4   bank_customer    690 non-null    int64  \n",
      " 5   education_level  690 non-null    int64  \n",
      " 6   ethnicity        690 non-null    int64  \n",
      " 7   years_employed   690 non-null    float64\n",
      " 8   prior_default    690 non-null    int64  \n",
      " 9   employed         690 non-null    int64  \n",
      " 10  credit_score     690 non-null    int64  \n",
      " 11  drivers_license  690 non-null    int64  \n",
      " 12  citizen          690 non-null    int64  \n",
      " 13  zip_code         690 non-null    int64  \n",
      " 14  income           690 non-null    int64  \n",
      " 15  approval_status  690 non-null    int64  \n",
      "dtypes: float64(3), int64(13)\n",
      "memory usage: 86.4 KB\n"
     ]
    }
   ],
   "source": [
    "df.info()"
   ]
  },
  {
   "cell_type": "markdown",
   "id": "85be83af",
   "metadata": {},
   "source": [
    "## Spliting the data into test and training sets"
   ]
  },
  {
   "cell_type": "markdown",
   "id": "e3a8d45b",
   "metadata": {},
   "source": [
    "Now, we will split our data into train set and test set to prepare our data for two different phases of machine learning modeling: training and testing. \n",
    "\n",
    "Moreover, features like `drivers_license` and `zip_code` are not as important as the other features in the dataset for predicting credit card approvals. We should drop them to design our machine learning model with the best set of features."
   ]
  },
  {
   "cell_type": "code",
   "execution_count": 8,
   "id": "6a515152",
   "metadata": {},
   "outputs": [],
   "source": [
    "# Drop the drivers_license and zip_code features\n",
    "df = df.drop(['drivers_license', 'zip_code'], axis = 1)\n",
    "df = df.values\n",
    "\n",
    "# Segregate features and labels into seperate variables\n",
    "X, y = df[:,0:13], df[:,-1]\n",
    "\n",
    "# Split into train and test sets\n",
    "X_train, X_test, y_train, y_test = train_test_split(X, y, test_size = 0.3, random_state = 42)"
   ]
  },
  {
   "cell_type": "markdown",
   "id": "22b0513c",
   "metadata": {},
   "source": [
    "Now, we are only left with one final preprocessing step of scaling before we can fit a machine learning model to the data."
   ]
  },
  {
   "cell_type": "markdown",
   "id": "ef863ba3",
   "metadata": {},
   "source": [
    "## Scale the features to a uniform range"
   ]
  },
  {
   "cell_type": "markdown",
   "id": "2a6a354b",
   "metadata": {},
   "source": [
    "The data is now split into two separate sets — train and test sets respectively. We are only left with one final pre-processing step of scaling before we can fit a machine learning model to the data.\n",
    "\n",
    "Now, let’s try to understand what these scaled values mean in the real world. Let’s use `credit_score` as an example. The credit score of a person is their credit worthiness based on their credit history. The higher this number, the more financially trustworthy a person is considered to be. So, a `credit_score` of 1 is the highest since we're rescaling all the values to the range of 0-1."
   ]
  },
  {
   "cell_type": "code",
   "execution_count": 9,
   "id": "e062e096",
   "metadata": {},
   "outputs": [],
   "source": [
    "# Instantiate MinMaxScaler and use it to rescale X_train and X_test\n",
    "scaler = MinMaxScaler(feature_range=(0, 1))\n",
    "X_train = scaler.fit_transform(X_train)\n",
    "X_test = scaler.transform(X_test)"
   ]
  },
  {
   "cell_type": "code",
   "execution_count": 10,
   "id": "bfd768d1",
   "metadata": {},
   "outputs": [
    {
     "data": {
      "text/plain": [
       "array([[0.00000000e+00, 7.41269841e-02, 3.51243592e-01, ...,\n",
       "        5.97014925e-02, 0.00000000e+00, 5.40000000e-03],\n",
       "       [1.00000000e+00, 5.28571429e-02, 3.22764382e-03, ...,\n",
       "        0.00000000e+00, 0.00000000e+00, 7.22000000e-03],\n",
       "       [1.00000000e+00, 1.38888889e-01, 4.36681223e-01, ...,\n",
       "        0.00000000e+00, 0.00000000e+00, 4.00000000e-02],\n",
       "       ...,\n",
       "       [1.00000000e+00, 3.78253968e-01, 0.00000000e+00, ...,\n",
       "        0.00000000e+00, 5.00000000e-01, 0.00000000e+00],\n",
       "       [1.00000000e+00, 8.33333333e-02, 0.00000000e+00, ...,\n",
       "        5.97014925e-02, 0.00000000e+00, 1.00000000e-05],\n",
       "       [1.00000000e+00, 7.80952381e-02, 1.89861401e-01, ...,\n",
       "        2.98507463e-02, 0.00000000e+00, 3.80000000e-04]])"
      ]
     },
     "execution_count": 10,
     "metadata": {},
     "output_type": "execute_result"
    }
   ],
   "source": [
    "X_train"
   ]
  },
  {
   "cell_type": "code",
   "execution_count": 11,
   "id": "6a281437",
   "metadata": {},
   "outputs": [
    {
     "data": {
      "text/plain": [
       "array([[0.        , 0.28282811, 0.05695842, ..., 0.02985075, 0.        ,\n",
       "        0.00105   ],\n",
       "       [0.        , 0.51190476, 0.15188912, ..., 0.        , 0.        ,\n",
       "        0.0096    ],\n",
       "       [1.        , 0.09920635, 0.        , ..., 0.        , 0.        ,\n",
       "        0.        ],\n",
       "       ...,\n",
       "       [1.        , 0.25666667, 0.06967913, ..., 0.        , 0.        ,\n",
       "        0.002     ],\n",
       "       [0.        , 0.37428571, 0.0949307 , ..., 0.        , 0.        ,\n",
       "        0.00246   ],\n",
       "       [0.        , 0.14412698, 0.08695652, ..., 0.10447761, 0.        ,\n",
       "        0.02384   ]])"
      ]
     },
     "execution_count": 11,
     "metadata": {},
     "output_type": "execute_result"
    }
   ],
   "source": [
    "X_test"
   ]
  },
  {
   "cell_type": "markdown",
   "id": "9a824898",
   "metadata": {},
   "source": [
    "## Decision Trees"
   ]
  },
  {
   "cell_type": "markdown",
   "id": "ad251985",
   "metadata": {},
   "source": [
    "### Entropy Model - No max_depth"
   ]
  },
  {
   "cell_type": "code",
   "execution_count": 32,
   "id": "bba73836",
   "metadata": {},
   "outputs": [
    {
     "data": {
      "text/plain": [
       "DecisionTreeClassifier(criterion='entropy', random_state=42)"
      ]
     },
     "execution_count": 32,
     "metadata": {},
     "output_type": "execute_result"
    }
   ],
   "source": [
    "# Use the default and check performance\n",
    "\n",
    "from sklearn import tree\n",
    "\n",
    "# Declare a variable called entr_model and use tree.DecisionTreeClassifier. \n",
    "entr_model = tree.DecisionTreeClassifier(criterion=\"entropy\", random_state = 42)\n",
    "\n",
    "# Call fit() on entr_model\n",
    "entr_model.fit(X_train, y_train)\n",
    "\n",
    "# Call predict() on entr_model with X_test passed to it, and assign the result to a variable y_pred \n",
    "y_pred = entr_model.predict(X_test)\n",
    "\n",
    "# Call Series on our y_pred variable with the following: pd.Series(y_pred)\n",
    "y_pred = pd.Series(y_pred)\n",
    "\n",
    "# Check out entr_model\n",
    "entr_model"
   ]
  },
  {
   "cell_type": "code",
   "execution_count": 36,
   "id": "7593be18",
   "metadata": {},
   "outputs": [
    {
     "name": "stdout",
     "output_type": "stream",
     "text": [
      "Model Entropy - no max depth\n",
      "Accuracy: 0.8164251207729468\n",
      "Balanced accuracy: 0.813261480787254\n",
      "Precision score for \"Approved\" 0.8314606741573034\n",
      "Precision score for \"Disapproved\" 0.8050847457627118\n",
      "Recall score for \"Approved\" 0.7628865979381443\n",
      "Recall score for \"Disapproved\" 0.8636363636363636\n"
     ]
    }
   ],
   "source": [
    "print(\"Model Entropy - no max depth\")\n",
    "print(\"Accuracy:\", accuracy_score(y_test,y_pred))\n",
    "print(\"Balanced accuracy:\", balanced_accuracy_score(y_test,y_pred))\n",
    "print('Precision score for \"Approved\"' , precision_score(y_test,y_pred, pos_label = 1))\n",
    "print('Precision score for \"Disapproved\"' , precision_score(y_test,y_pred, pos_label = 0))\n",
    "print('Recall score for \"Approved\"' , recall_score(y_test,y_pred, pos_label = 1))\n",
    "print('Recall score for \"Disapproved\"' , recall_score(y_test,y_pred, pos_label = 0))"
   ]
  },
  {
   "cell_type": "markdown",
   "id": "d01fe4f6",
   "metadata": {},
   "source": [
    "### Gini Impurity Model - no max_depth"
   ]
  },
  {
   "cell_type": "code",
   "execution_count": 37,
   "id": "b605b23c",
   "metadata": {},
   "outputs": [
    {
     "data": {
      "text/plain": [
       "DecisionTreeClassifier(random_state=42)"
      ]
     },
     "execution_count": 37,
     "metadata": {},
     "output_type": "execute_result"
    }
   ],
   "source": [
    "# Make a variable called gini_model, and assign it exactly what you assigned entr_model with above, but with the\n",
    "# criterion changed to 'gini'\n",
    "gini_model = tree.DecisionTreeClassifier(criterion=\"gini\", random_state = 42)\n",
    "\n",
    "# Call fit() on the gini_model as you did with the entr_model\n",
    "gini_model.fit(X_train, y_train)\n",
    "\n",
    "# Call predict() on the gini_model as you did with the entr_model \n",
    "y_pred = gini_model.predict(X_test)\n",
    "\n",
    "# Turn y_pred into a series, as before\n",
    "y_pred = pd.Series(y_pred)\n",
    "\n",
    "# Check out gini_model\n",
    "gini_model"
   ]
  },
  {
   "cell_type": "code",
   "execution_count": 38,
   "id": "f6156ac2",
   "metadata": {},
   "outputs": [
    {
     "name": "stdout",
     "output_type": "stream",
     "text": [
      "Model Gini impurity model - no max depth\n",
      "Accuracy: 0.8695652173913043\n",
      "Balanced accuracy: 0.8650890346766635\n",
      "Precision score for \"Approved\" 0.9166666666666666\n",
      "Precision score for \"Disapproved\" 0.8373983739837398\n",
      "Recall score for \"Approved\" 0.7938144329896907\n",
      "Recall score for \"Disapproved\" 0.9363636363636364\n"
     ]
    }
   ],
   "source": [
    "print(\"Model Gini impurity model - no max depth\")\n",
    "print(\"Accuracy:\", accuracy_score(y_test,y_pred))\n",
    "print(\"Balanced accuracy:\", balanced_accuracy_score(y_test,y_pred))\n",
    "print('Precision score for \"Approved\"' , precision_score(y_test,y_pred, pos_label = 1))\n",
    "print('Precision score for \"Disapproved\"' , precision_score(y_test,y_pred, pos_label = 0))\n",
    "print('Recall score for \"Approved\"' , recall_score(y_test,y_pred, pos_label = 1))\n",
    "print('Recall score for \"Disapproved\"' , recall_score(y_test,y_pred, pos_label = 0))"
   ]
  },
  {
   "cell_type": "markdown",
   "id": "231dfa0b",
   "metadata": {},
   "source": [
    "### Entropy Model - max_depth 3 "
   ]
  },
  {
   "cell_type": "code",
   "execution_count": 39,
   "id": "703b0b01",
   "metadata": {},
   "outputs": [
    {
     "data": {
      "text/plain": [
       "DecisionTreeClassifier(criterion='entropy', max_depth=3, random_state=1234)"
      ]
     },
     "execution_count": 39,
     "metadata": {},
     "output_type": "execute_result"
    }
   ],
   "source": [
    "entr_model2 = tree.DecisionTreeClassifier(criterion='entropy', max_depth=3, random_state=1234)\n",
    "entr_model2.fit(X_train, y_train)\n",
    "y_pred = entr_model2.predict(X_test)\n",
    "y_pred = pd.Series(y_pred)\n",
    "entr_model2"
   ]
  },
  {
   "cell_type": "code",
   "execution_count": 40,
   "id": "de1996b2",
   "metadata": {},
   "outputs": [
    {
     "name": "stdout",
     "output_type": "stream",
     "text": [
      "Model Entropy model - max depth 3\n",
      "Accuracy: 0.8405797101449275\n",
      "Balanced accuracy: 0.8451265229615745\n",
      "Precision score for \"Approved\" 0.7807017543859649\n",
      "Precision score for \"Disapproved\" 0.9139784946236559\n",
      "Recall score for \"Approved\" 0.9175257731958762\n",
      "Recall score for \"Disapproved\" 0.7727272727272727\n"
     ]
    }
   ],
   "source": [
    "print(\"Model Entropy model - max depth 3\")\n",
    "print(\"Accuracy:\", accuracy_score(y_test,y_pred))\n",
    "print(\"Balanced accuracy:\", balanced_accuracy_score(y_test,y_pred))\n",
    "print('Precision score for \"Approved\"' , precision_score(y_test,y_pred, pos_label = 1))\n",
    "print('Precision score for \"Disapproved\"' , precision_score(y_test,y_pred, pos_label = 0))\n",
    "print('Recall score for \"Approved\"' , recall_score(y_test,y_pred, pos_label = 1))\n",
    "print('Recall score for \"Disapproved\"' , recall_score(y_test,y_pred, pos_label = 0))"
   ]
  },
  {
   "cell_type": "markdown",
   "id": "01715a64",
   "metadata": {},
   "source": [
    "### Gini impurity model - max_depth 3"
   ]
  },
  {
   "cell_type": "code",
   "execution_count": 41,
   "id": "be1d5feb",
   "metadata": {},
   "outputs": [
    {
     "data": {
      "text/plain": [
       "DecisionTreeClassifier(max_depth=3, random_state=1234)"
      ]
     },
     "execution_count": 41,
     "metadata": {},
     "output_type": "execute_result"
    }
   ],
   "source": [
    "gini_model2 = tree.DecisionTreeClassifier(criterion ='gini', random_state = 1234, max_depth  = 3 )\n",
    "\n",
    " \n",
    "gini_model2.fit(X_train, y_train)\n",
    "y_pred = gini_model2.predict(X_test)\n",
    "y_pred = pd.Series(y_pred)\n",
    "gini_model2"
   ]
  },
  {
   "cell_type": "code",
   "execution_count": 42,
   "id": "923a3363",
   "metadata": {},
   "outputs": [
    {
     "name": "stdout",
     "output_type": "stream",
     "text": [
      "Model Entropy model - max depth 3\n",
      "Accuracy: 0.8454106280193237\n",
      "Balanced accuracy: 0.8502811621368322\n",
      "Precision score for \"Approved\" 0.782608695652174\n",
      "Precision score for \"Disapproved\" 0.9239130434782609\n",
      "Recall score for \"Approved\" 0.9278350515463918\n",
      "Recall score for \"Disapproved\" 0.7727272727272727\n"
     ]
    }
   ],
   "source": [
    "print(\"Model Entropy model - max depth 3\")\n",
    "print(\"Accuracy:\", accuracy_score(y_test,y_pred))\n",
    "print(\"Balanced accuracy:\", balanced_accuracy_score(y_test,y_pred))\n",
    "print('Precision score for \"Approved\"' , precision_score(y_test,y_pred, pos_label = 1))\n",
    "print('Precision score for \"Disapproved\"' , precision_score(y_test,y_pred, pos_label = 0))\n",
    "print('Recall score for \"Approved\"' , recall_score(y_test,y_pred, pos_label = 1))\n",
    "print('Recall score for \"Disapproved\"' , recall_score(y_test,y_pred, pos_label = 0))"
   ]
  },
  {
   "cell_type": "code",
   "execution_count": null,
   "id": "f80c92f6",
   "metadata": {},
   "outputs": [],
   "source": []
  },
  {
   "cell_type": "markdown",
   "id": "8470e571",
   "metadata": {},
   "source": [
    " - Use the default arguments when building the models\n",
    " - features importance plots (use guided capstone)\n",
    " - Finish the models and time series."
   ]
  },
  {
   "cell_type": "code",
   "execution_count": null,
   "id": "104ed2e6",
   "metadata": {},
   "outputs": [],
   "source": []
  }
 ],
 "metadata": {
  "kernelspec": {
   "display_name": "Python 3 (ipykernel)",
   "language": "python",
   "name": "python3"
  },
  "language_info": {
   "codemirror_mode": {
    "name": "ipython",
    "version": 3
   },
   "file_extension": ".py",
   "mimetype": "text/x-python",
   "name": "python",
   "nbconvert_exporter": "python",
   "pygments_lexer": "ipython3",
   "version": "3.9.12"
  }
 },
 "nbformat": 4,
 "nbformat_minor": 5
}
