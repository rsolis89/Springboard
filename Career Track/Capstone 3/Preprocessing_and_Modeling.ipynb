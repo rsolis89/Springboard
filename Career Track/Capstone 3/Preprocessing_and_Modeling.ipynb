{
  "nbformat": 4,
  "nbformat_minor": 0,
  "metadata": {
    "colab": {
      "provenance": []
    },
    "kernelspec": {
      "name": "python3",
      "display_name": "Python 3"
    },
    "language_info": {
      "name": "python"
    }
  },
  "cells": [
    {
      "cell_type": "code",
      "execution_count": 1,
      "metadata": {
        "id": "O2HQgDd-EizZ"
      },
      "outputs": [],
      "source": [
        "import numpy as np\n",
        "import pandas as pd\n",
        "import seaborn as sns\n",
        "import matplotlib.pyplot as plt\n",
        "from sklearn.preprocessing import MinMaxScaler\n",
        "from keras.models import Sequential\n",
        "from keras.layers import Dense, LSTM\n",
        "import math\n",
        "import warnings\n",
        "warnings.filterwarnings('ignore')"
      ]
    },
    {
      "cell_type": "code",
      "source": [
        "df = pd.read_csv('AMZN.csv')"
      ],
      "metadata": {
        "id": "d5EeIEQ1FGki"
      },
      "execution_count": 2,
      "outputs": []
    },
    {
      "cell_type": "code",
      "source": [
        "df = df.drop(columns=['Adj Close'])\n",
        "df['Date'] = pd.to_datetime(df['Date'])\n",
        "df.set_index('Date', inplace = True)"
      ],
      "metadata": {
        "id": "nyPie_nYFKi6"
      },
      "execution_count": 3,
      "outputs": []
    },
    {
      "cell_type": "code",
      "source": [
        "data = df.filter(['Close'])\n",
        "dataset = data.values\n",
        "training_data_len = math.ceil(len(dataset) * .8)\n",
        "training_data_len"
      ],
      "metadata": {
        "colab": {
          "base_uri": "https://localhost:8080/"
        },
        "id": "D-iUf3cGF1W1",
        "outputId": "026d6305-89ed-4acf-b258-aeb0121585d2"
      },
      "execution_count": 4,
      "outputs": [
        {
          "output_type": "execute_result",
          "data": {
            "text/plain": [
              "5006"
            ]
          },
          "metadata": {},
          "execution_count": 4
        }
      ]
    },
    {
      "cell_type": "code",
      "source": [
        "scaler = MinMaxScaler(feature_range=(0,1))\n",
        "scaled_data = scaler.fit_transform(dataset)\n",
        "scaled_data"
      ],
      "metadata": {
        "colab": {
          "base_uri": "https://localhost:8080/"
        },
        "id": "f9sgD6nVGCqa",
        "outputId": "1e02dc18-f7a9-4b80-a148-5f55405d301f"
      },
      "execution_count": 5,
      "outputs": [
        {
          "output_type": "execute_result",
          "data": {
            "text/plain": [
              "array([[1.50803720e-04],\n",
              "       [8.93653463e-05],\n",
              "       [8.37798446e-05],\n",
              "       ...,\n",
              "       [8.83745778e-01],\n",
              "       [8.75804758e-01],\n",
              "       [8.77099681e-01]])"
            ]
          },
          "metadata": {},
          "execution_count": 5
        }
      ]
    },
    {
      "cell_type": "code",
      "source": [
        "train_data = scaled_data[0:training_data_len, :]\n",
        "x_train = []\n",
        "y_train = []\n",
        "for i in range(60, len(train_data)):\n",
        "  x_train.append(train_data[i-60:i, 0])\n",
        "  y_train.append(train_data[i, 0])\n",
        "  if i <= 60:\n",
        "    print(x_train)\n",
        "    print(y_train)\n",
        "    print()"
      ],
      "metadata": {
        "colab": {
          "base_uri": "https://localhost:8080/"
        },
        "id": "M_qRD-iKGXc7",
        "outputId": "ab3809c8-117c-45eb-b41e-e366d3fa08a7"
      },
      "execution_count": 6,
      "outputs": [
        {
          "output_type": "stream",
          "name": "stdout",
          "text": [
            "[array([1.50803720e-04, 8.93653463e-05, 8.37798446e-05, 6.42313929e-05,\n",
            "       8.37798446e-06, 0.00000000e+00, 2.79267042e-05, 5.02679068e-05,\n",
            "       3.63046887e-05, 2.93229456e-05, 2.79267042e-05, 3.07194551e-05,\n",
            "       2.23414706e-05, 5.58550171e-06, 3.90974396e-05, 6.98166266e-05,\n",
            "       7.81946110e-05, 5.02679068e-05, 3.90974396e-05, 5.58534085e-05,\n",
            "       5.02679068e-05, 4.74754240e-05, 2.93229456e-05, 3.07194551e-05,\n",
            "       3.07194551e-05, 3.49084473e-05, 2.79267042e-05, 3.07194551e-05,\n",
            "       3.07194551e-05, 3.07194551e-05, 2.51339534e-05, 3.90974396e-05,\n",
            "       3.21156965e-05, 5.16644163e-05, 1.38236744e-04, 1.61974456e-04,\n",
            "       2.42961549e-04, 2.48547051e-04, 3.12778176e-04, 2.40169067e-04,\n",
            "       1.98279144e-04, 2.79266238e-04, 2.51339534e-04, 2.20620347e-04,\n",
            "       2.03864378e-04, 2.10846121e-04, 1.98279144e-04, 2.40169067e-04,\n",
            "       2.31791082e-04, 2.23413098e-04, 2.48547051e-04, 2.90436973e-04,\n",
            "       2.82058989e-04, 2.68095503e-04, 2.73681005e-04, 2.45754300e-04,\n",
            "       2.17827596e-04, 2.28998331e-04, 2.09449612e-04, 2.40169067e-04])]\n",
            "[0.00024994329250626934]\n",
            "\n"
          ]
        }
      ]
    },
    {
      "cell_type": "code",
      "source": [
        "x_train, y_train = np.array(x_train), np.array(y_train)"
      ],
      "metadata": {
        "id": "hRst9Ab7G46D"
      },
      "execution_count": 7,
      "outputs": []
    },
    {
      "cell_type": "code",
      "source": [
        "x_train = np.reshape(x_train, (x_train.shape[0], x_train.shape[1], 1))\n",
        "x_train.shape"
      ],
      "metadata": {
        "colab": {
          "base_uri": "https://localhost:8080/"
        },
        "id": "QE-f9FR6ILlV",
        "outputId": "1ee943a5-acf4-4997-e37e-0a90c9f06ccd"
      },
      "execution_count": 8,
      "outputs": [
        {
          "output_type": "execute_result",
          "data": {
            "text/plain": [
              "(4946, 60, 1)"
            ]
          },
          "metadata": {},
          "execution_count": 8
        }
      ]
    },
    {
      "cell_type": "code",
      "source": [
        "model = Sequential()\n",
        "model.add(LSTM(64, return_sequences=True, input_shape = (x_train.shape[1], 1)))\n",
        "model.add(LSTM(64, return_sequences=False))\n",
        "model.add(Dense(32))\n",
        "model.add(Dense(1))"
      ],
      "metadata": {
        "id": "IuPadZJrIn8W"
      },
      "execution_count": 9,
      "outputs": []
    },
    {
      "cell_type": "code",
      "source": [
        "model.compile(optimizer='adam', loss='mean_squared_error')"
      ],
      "metadata": {
        "id": "gmnxzEk_JAcE"
      },
      "execution_count": 10,
      "outputs": []
    },
    {
      "cell_type": "code",
      "source": [
        "model.fit(x_train, y_train, batch_size=1, epochs=10)"
      ],
      "metadata": {
        "colab": {
          "base_uri": "https://localhost:8080/"
        },
        "id": "0YZQvTEhJKXO",
        "outputId": "aadc6d67-29c5-44be-be75-9f97381bfa4e"
      },
      "execution_count": 11,
      "outputs": [
        {
          "output_type": "stream",
          "name": "stdout",
          "text": [
            "Epoch 1/10\n",
            "4946/4946 [==============================] - 178s 35ms/step - loss: 6.7517e-05\n",
            "Epoch 2/10\n",
            "4946/4946 [==============================] - 165s 33ms/step - loss: 2.6231e-05\n",
            "Epoch 3/10\n",
            "4946/4946 [==============================] - 166s 34ms/step - loss: 1.6590e-05\n",
            "Epoch 4/10\n",
            "4946/4946 [==============================] - 166s 34ms/step - loss: 1.3705e-05\n",
            "Epoch 5/10\n",
            "4946/4946 [==============================] - 174s 35ms/step - loss: 1.3727e-05\n",
            "Epoch 6/10\n",
            "4946/4946 [==============================] - 165s 33ms/step - loss: 1.0429e-05\n",
            "Epoch 7/10\n",
            "4946/4946 [==============================] - 164s 33ms/step - loss: 1.0332e-05\n",
            "Epoch 8/10\n",
            "4946/4946 [==============================] - 168s 34ms/step - loss: 9.2641e-06\n",
            "Epoch 9/10\n",
            "4946/4946 [==============================] - 165s 33ms/step - loss: 9.9401e-06\n",
            "Epoch 10/10\n",
            "4946/4946 [==============================] - 166s 34ms/step - loss: 7.8525e-06\n"
          ]
        },
        {
          "output_type": "execute_result",
          "data": {
            "text/plain": [
              "<keras.callbacks.History at 0x7fae7e218f10>"
            ]
          },
          "metadata": {},
          "execution_count": 11
        }
      ]
    },
    {
      "cell_type": "code",
      "source": [
        "test_data = scaled_data[training_data_len-60:, :]\n",
        "x_test = []\n",
        "y_test = dataset[training_data_len:, :]\n",
        "for i in range(60, len(test_data)):\n",
        "  x_test.append(test_data[i-60:i, 0])"
      ],
      "metadata": {
        "id": "EtydE6hhJQuY"
      },
      "execution_count": 12,
      "outputs": []
    },
    {
      "cell_type": "code",
      "source": [
        "x_test = np.array(x_test)"
      ],
      "metadata": {
        "id": "QKq6vPJ-RYAm"
      },
      "execution_count": 13,
      "outputs": []
    },
    {
      "cell_type": "code",
      "source": [
        "x_test = np.reshape(x_test, (x_test.shape[0], x_test.shape[1], 1))\n",
        "x_test.shape"
      ],
      "metadata": {
        "colab": {
          "base_uri": "https://localhost:8080/"
        },
        "id": "ZKI0TOWjRZRP",
        "outputId": "e203f5a9-be64-4911-dae1-17fb853f57fa"
      },
      "execution_count": 14,
      "outputs": [
        {
          "output_type": "execute_result",
          "data": {
            "text/plain": [
              "(1251, 60, 1)"
            ]
          },
          "metadata": {},
          "execution_count": 14
        }
      ]
    },
    {
      "cell_type": "code",
      "source": [
        "predictions = model.predict(x_test)\n",
        "predictions = scaler.inverse_transform(predictions)"
      ],
      "metadata": {
        "colab": {
          "base_uri": "https://localhost:8080/"
        },
        "id": "yzXENoM6Ro6h",
        "outputId": "e33acf81-bd94-4bdf-f5aa-3777a572629a"
      },
      "execution_count": 15,
      "outputs": [
        {
          "output_type": "stream",
          "name": "stdout",
          "text": [
            "40/40 [==============================] - 2s 22ms/step\n"
          ]
        }
      ]
    },
    {
      "cell_type": "code",
      "source": [
        "rmse = np.sqrt(np.mean(predictions - y_test)**2)\n",
        "rmse"
      ],
      "metadata": {
        "colab": {
          "base_uri": "https://localhost:8080/"
        },
        "id": "0EdQPkyFRvzF",
        "outputId": "1c2c1183-c464-40d1-edc3-1fed7bc94443"
      },
      "execution_count": 16,
      "outputs": [
        {
          "output_type": "execute_result",
          "data": {
            "text/plain": [
              "300.1562094426771"
            ]
          },
          "metadata": {},
          "execution_count": 16
        }
      ]
    },
    {
      "cell_type": "code",
      "source": [
        "train = data[:training_data_len]\n",
        "valid = data[training_data_len:]\n",
        "valid['Predictions'] = predictions\n",
        "plt.figure(figsize=(16,8))\n",
        "plt.title('Model')\n",
        "plt.xlabel('Date', fontsize=18)\n",
        "plt.ylabel('Close Price', fontsize=18)\n",
        "plt.plot(train['Close'], linewidth=3.5)\n",
        "plt.plot(valid[['Close', 'Predictions']], linewidth=3.5)\n",
        "plt.legend(['Train', 'Vaild', 'Predictions'], loc='upper left')\n",
        "plt.show()"
      ],
      "metadata": {
        "colab": {
          "base_uri": "https://localhost:8080/",
          "height": 559
        },
        "id": "Cc-jqlDPSCRI",
        "outputId": "7224aed6-f132-4955-a024-5a27a552bb2d"
      },
      "execution_count": 24,
      "outputs": [
        {
          "output_type": "display_data",
          "data": {
            "text/plain": [
              "<Figure size 1600x800 with 1 Axes>"
            ],
            "image/png": "[encoded data removed]"
          },
          "metadata": {}
        }
      ]
    },
    {
      "cell_type": "code",
      "source": [
        "valid"
      ],
      "metadata": {
        "id": "6Lz0dHKiTBGt",
        "colab": {
          "base_uri": "https://localhost:8080/",
          "height": 450
        },
        "outputId": "ea2d72bd-1cb4-4602-982c-6b2edb6994f6"
      },
      "execution_count": 25,
      "outputs": [
        {
          "output_type": "execute_result",
          "data": {
            "text/plain": [
              "                  Close  Predictions\n",
              "Date                                \n",
              "2017-04-06   898.280029   899.447205\n",
              "2017-04-07   894.880005   887.606445\n",
              "2017-04-10   907.039978   884.618530\n",
              "2017-04-11   902.359985   898.134399\n",
              "2017-04-12   896.229980   893.812012\n",
              "...                 ...          ...\n",
              "2022-03-18  3225.010010  2594.854248\n",
              "2022-03-21  3229.830078  2637.216797\n",
              "2022-03-22  3297.780029  2616.996582\n",
              "2022-03-23  3268.159912  2665.494873\n",
              "2022-03-24  3272.989990  2625.903564\n",
              "\n",
              "[1251 rows x 2 columns]"
            ],
            "text/html": [
              "\n",
              "  <div id=\"df-0f484240-594e-4c1b-b35e-a10b2ca3c7ea\">\n",
              "    <div class=\"colab-df-container\">\n",
              "      <div>\n",
              "<style scoped>\n",
              "    .dataframe tbody tr th:only-of-type {\n",
              "        vertical-align: middle;\n",
              "    }\n",
              "\n",
              "    .dataframe tbody tr th {\n",
              "        vertical-align: top;\n",
              "    }\n",
              "\n",
              "    .dataframe thead th {\n",
              "        text-align: right;\n",
              "    }\n",
              "</style>\n",
              "<table border=\"1\" class=\"dataframe\">\n",
              "  <thead>\n",
              "    <tr style=\"text-align: right;\">\n",
              "      <th></th>\n",
              "      <th>Close</th>\n",
              "      <th>Predictions</th>\n",
              "    </tr>\n",
              "    <tr>\n",
              "      <th>Date</th>\n",
              "      <th></th>\n",
              "      <th></th>\n",
              "    </tr>\n",
              "  </thead>\n",
              "  <tbody>\n",
              "    <tr>\n",
              "      <th>2017-04-06</th>\n",
              "      <td>898.280029</td>\n",
              "      <td>899.447205</td>\n",
              "    </tr>\n",
              "    <tr>\n",
              "      <th>2017-04-07</th>\n",
              "      <td>894.880005</td>\n",
              "      <td>887.606445</td>\n",
              "    </tr>\n",
              "    <tr>\n",
              "      <th>2017-04-10</th>\n",
              "      <td>907.039978</td>\n",
              "      <td>884.618530</td>\n",
              "    </tr>\n",
              "    <tr>\n",
              "      <th>2017-04-11</th>\n",
              "      <td>902.359985</td>\n",
              "      <td>898.134399</td>\n",
              "    </tr>\n",
              "    <tr>\n",
              "      <th>2017-04-12</th>\n",
              "      <td>896.229980</td>\n",
              "      <td>893.812012</td>\n",
              "    </tr>\n",
              "    <tr>\n",
              "      <th>...</th>\n",
              "      <td>...</td>\n",
              "      <td>...</td>\n",
              "    </tr>\n",
              "    <tr>\n",
              "      <th>2022-03-18</th>\n",
              "      <td>3225.010010</td>\n",
              "      <td>2594.854248</td>\n",
              "    </tr>\n",
              "    <tr>\n",
              "      <th>2022-03-21</th>\n",
              "      <td>3229.830078</td>\n",
              "      <td>2637.216797</td>\n",
              "    </tr>\n",
              "    <tr>\n",
              "      <th>2022-03-22</th>\n",
              "      <td>3297.780029</td>\n",
              "      <td>2616.996582</td>\n",
              "    </tr>\n",
              "    <tr>\n",
              "      <th>2022-03-23</th>\n",
              "      <td>3268.159912</td>\n",
              "      <td>2665.494873</td>\n",
              "    </tr>\n",
              "    <tr>\n",
              "      <th>2022-03-24</th>\n",
              "      <td>3272.989990</td>\n",
              "      <td>2625.903564</td>\n",
              "    </tr>\n",
              "  </tbody>\n",
              "</table>\n",
              "<p>1251 rows × 2 columns</p>\n",
              "</div>\n",
              "      <button class=\"colab-df-convert\" onclick=\"convertToInteractive('df-0f484240-594e-4c1b-b35e-a10b2ca3c7ea')\"\n",
              "              title=\"Convert this dataframe to an interactive table.\"\n",
              "              style=\"display:none;\">\n",
              "        \n",
              "  <svg xmlns=\"http://www.w3.org/2000/svg\" height=\"24px\"viewBox=\"0 0 24 24\"\n",
              "       width=\"24px\">\n",
              "    <path d=\"M0 0h24v24H0V0z\" fill=\"none\"/>\n",
              "    <path d=\"M18.56 5.44l.94 2.06.94-2.06 2.06-.94-2.06-.94-.94-2.06-.94 2.06-2.06.94zm-11 1L8.5 8.5l.94-2.06 2.06-.94-2.06-.94L8.5 2.5l-.94 2.06-2.06.94zm10 10l.94 2.06.94-2.06 2.06-.94-2.06-.94-.94-2.06-.94 2.06-2.06.94z\"/><path d=\"M17.41 7.96l-1.37-1.37c-.4-.4-.92-.59-1.43-.59-.52 0-1.04.2-1.43.59L10.3 9.45l-7.72 7.72c-.78.78-.78 2.05 0 2.83L4 21.41c.39.39.9.59 1.41.59.51 0 1.02-.2 1.41-.59l7.78-7.78 2.81-2.81c.8-.78.8-2.07 0-2.86zM5.41 20L4 18.59l7.72-7.72 1.47 1.35L5.41 20z\"/>\n",
              "  </svg>\n",
              "      </button>\n",
              "      \n",
              "  <style>\n",
              "    .colab-df-container {\n",
              "      display:flex;\n",
              "      flex-wrap:wrap;\n",
              "      gap: 12px;\n",
              "    }\n",
              "\n",
              "    .colab-df-convert {\n",
              "      background-color: #E8F0FE;\n",
              "      border: none;\n",
              "      border-radius: 50%;\n",
              "      cursor: pointer;\n",
              "      display: none;\n",
              "      fill: #1967D2;\n",
              "      height: 32px;\n",
              "      padding: 0 0 0 0;\n",
              "      width: 32px;\n",
              "    }\n",
              "\n",
              "    .colab-df-convert:hover {\n",
              "      background-color: #E2EBFA;\n",
              "      box-shadow: 0px 1px 2px rgba(60, 64, 67, 0.3), 0px 1px 3px 1px rgba(60, 64, 67, 0.15);\n",
              "      fill: #174EA6;\n",
              "    }\n",
              "\n",
              "    [theme=dark] .colab-df-convert {\n",
              "      background-color: #3B4455;\n",
              "      fill: #D2E3FC;\n",
              "    }\n",
              "\n",
              "    [theme=dark] .colab-df-convert:hover {\n",
              "      background-color: #434B5C;\n",
              "      box-shadow: 0px 1px 3px 1px rgba(0, 0, 0, 0.15);\n",
              "      filter: drop-shadow(0px 1px 2px rgba(0, 0, 0, 0.3));\n",
              "      fill: #FFFFFF;\n",
              "    }\n",
              "  </style>\n",
              "\n",
              "      <script>\n",
              "        const buttonEl =\n",
              "          document.querySelector('#df-0f484240-594e-4c1b-b35e-a10b2ca3c7ea button.colab-df-convert');\n",
              "        buttonEl.style.display =\n",
              "          google.colab.kernel.accessAllowed ? 'block' : 'none';\n",
              "\n",
              "        async function convertToInteractive(key) {\n",
              "          const element = document.querySelector('#df-0f484240-594e-4c1b-b35e-a10b2ca3c7ea');\n",
              "          const dataTable =\n",
              "            await google.colab.kernel.invokeFunction('convertToInteractive',\n",
              "                                                     [key], {});\n",
              "          if (!dataTable) return;\n",
              "\n",
              "          const docLinkHtml = 'Like what you see? Visit the ' +\n",
              "            '<a target=\"_blank\" href=https://colab.research.google.com/notebooks/data_table.ipynb>data table notebook</a>'\n",
              "            + ' to learn more about interactive tables.';\n",
              "          element.innerHTML = '';\n",
              "          dataTable['output_type'] = 'display_data';\n",
              "          await google.colab.output.renderOutput(dataTable, element);\n",
              "          const docLink = document.createElement('div');\n",
              "          docLink.innerHTML = docLinkHtml;\n",
              "          element.appendChild(docLink);\n",
              "        }\n",
              "      </script>\n",
              "    </div>\n",
              "  </div>\n",
              "  "
            ]
          },
          "metadata": {},
          "execution_count": 25
        }
      ]
    },
    {
      "cell_type": "code",
      "source": [],
      "metadata": {
        "id": "mSMkchZjuy3g"
      },
      "execution_count": null,
      "outputs": []
    }
  ]
}